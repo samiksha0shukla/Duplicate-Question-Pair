{
 "cells": [
  {
   "cell_type": "code",
   "execution_count": 1,
   "id": "ec920785-55b0-45e9-8260-6cc47c506d05",
   "metadata": {},
   "outputs": [],
   "source": [
    "import pandas as pd\n",
    "import numpy as np\n",
    "import seaborn as sns\n",
    "import matplotlib.pyplot as plt"
   ]
  },
  {
   "cell_type": "code",
   "execution_count": 2,
   "id": "d09bcac2-b193-4105-9861-94a73f943407",
   "metadata": {},
   "outputs": [],
   "source": [
    "df = pd.read_csv(\"train.csv\")"
   ]
  },
  {
   "cell_type": "code",
   "execution_count": 3,
   "id": "9051c20e-8565-4e61-ad51-b5ce1da86a85",
   "metadata": {},
   "outputs": [
    {
     "data": {
      "text/plain": [
       "(404290, 6)"
      ]
     },
     "execution_count": 3,
     "metadata": {},
     "output_type": "execute_result"
    }
   ],
   "source": [
    "df.shape"
   ]
  },
  {
   "cell_type": "code",
   "execution_count": 4,
   "id": "58692190-a5d5-4e7e-bba1-2deff44b33ad",
   "metadata": {},
   "outputs": [
    {
     "data": {
      "text/html": [
       "<div>\n",
       "<style scoped>\n",
       "    .dataframe tbody tr th:only-of-type {\n",
       "        vertical-align: middle;\n",
       "    }\n",
       "\n",
       "    .dataframe tbody tr th {\n",
       "        vertical-align: top;\n",
       "    }\n",
       "\n",
       "    .dataframe thead th {\n",
       "        text-align: right;\n",
       "    }\n",
       "</style>\n",
       "<table border=\"1\" class=\"dataframe\">\n",
       "  <thead>\n",
       "    <tr style=\"text-align: right;\">\n",
       "      <th></th>\n",
       "      <th>id</th>\n",
       "      <th>qid1</th>\n",
       "      <th>qid2</th>\n",
       "      <th>question1</th>\n",
       "      <th>question2</th>\n",
       "      <th>is_duplicate</th>\n",
       "    </tr>\n",
       "  </thead>\n",
       "  <tbody>\n",
       "    <tr>\n",
       "      <th>91854</th>\n",
       "      <td>91854</td>\n",
       "      <td>153866</td>\n",
       "      <td>153867</td>\n",
       "      <td>Is it true that if you can't take someone off ...</td>\n",
       "      <td>Is it okay to think or care about someone if t...</td>\n",
       "      <td>0</td>\n",
       "    </tr>\n",
       "    <tr>\n",
       "      <th>5937</th>\n",
       "      <td>5937</td>\n",
       "      <td>10433</td>\n",
       "      <td>8154</td>\n",
       "      <td>Can I make money online?</td>\n",
       "      <td>What is an easy way make money online?</td>\n",
       "      <td>1</td>\n",
       "    </tr>\n",
       "    <tr>\n",
       "      <th>135792</th>\n",
       "      <td>135792</td>\n",
       "      <td>174821</td>\n",
       "      <td>176343</td>\n",
       "      <td>English language: Is it acceptable to say meet...</td>\n",
       "      <td>When people of other languages speak to each o...</td>\n",
       "      <td>0</td>\n",
       "    </tr>\n",
       "    <tr>\n",
       "      <th>290212</th>\n",
       "      <td>290212</td>\n",
       "      <td>411464</td>\n",
       "      <td>411465</td>\n",
       "      <td>What are the advantages and disadvantages of c...</td>\n",
       "      <td>Why do people love cannabis?</td>\n",
       "      <td>0</td>\n",
       "    </tr>\n",
       "    <tr>\n",
       "      <th>173185</th>\n",
       "      <td>173185</td>\n",
       "      <td>267222</td>\n",
       "      <td>17986</td>\n",
       "      <td>Is it possible to be good friends with your ex...</td>\n",
       "      <td>My dad always yells at me and causes me anxiet...</td>\n",
       "      <td>0</td>\n",
       "    </tr>\n",
       "    <tr>\n",
       "      <th>73783</th>\n",
       "      <td>73783</td>\n",
       "      <td>126561</td>\n",
       "      <td>126562</td>\n",
       "      <td>Is yoga good for men?</td>\n",
       "      <td>Is yoga bad for men?</td>\n",
       "      <td>0</td>\n",
       "    </tr>\n",
       "    <tr>\n",
       "      <th>133519</th>\n",
       "      <td>133519</td>\n",
       "      <td>213583</td>\n",
       "      <td>213584</td>\n",
       "      <td>What are some sentence examples using \"censure\"?</td>\n",
       "      <td>What are some sentence examples using \"absolve\"?</td>\n",
       "      <td>0</td>\n",
       "    </tr>\n",
       "    <tr>\n",
       "      <th>106739</th>\n",
       "      <td>106739</td>\n",
       "      <td>175757</td>\n",
       "      <td>175758</td>\n",
       "      <td>What if my 17 years old son wants to leave Eng...</td>\n",
       "      <td>I am a 40 year old mom. Should I still let my ...</td>\n",
       "      <td>0</td>\n",
       "    </tr>\n",
       "    <tr>\n",
       "      <th>221187</th>\n",
       "      <td>221187</td>\n",
       "      <td>35257</td>\n",
       "      <td>16668</td>\n",
       "      <td>Why do some people wake up sweating in the mor...</td>\n",
       "      <td>What are causes for waking up sweating every m...</td>\n",
       "      <td>1</td>\n",
       "    </tr>\n",
       "    <tr>\n",
       "      <th>203881</th>\n",
       "      <td>203881</td>\n",
       "      <td>306626</td>\n",
       "      <td>306627</td>\n",
       "      <td>I have excessive sweating at the armpits from ...</td>\n",
       "      <td>How do I keep my armpits from sweating?</td>\n",
       "      <td>1</td>\n",
       "    </tr>\n",
       "  </tbody>\n",
       "</table>\n",
       "</div>"
      ],
      "text/plain": [
       "            id    qid1    qid2  \\\n",
       "91854    91854  153866  153867   \n",
       "5937      5937   10433    8154   \n",
       "135792  135792  174821  176343   \n",
       "290212  290212  411464  411465   \n",
       "173185  173185  267222   17986   \n",
       "73783    73783  126561  126562   \n",
       "133519  133519  213583  213584   \n",
       "106739  106739  175757  175758   \n",
       "221187  221187   35257   16668   \n",
       "203881  203881  306626  306627   \n",
       "\n",
       "                                                question1  \\\n",
       "91854   Is it true that if you can't take someone off ...   \n",
       "5937                             Can I make money online?   \n",
       "135792  English language: Is it acceptable to say meet...   \n",
       "290212  What are the advantages and disadvantages of c...   \n",
       "173185  Is it possible to be good friends with your ex...   \n",
       "73783                               Is yoga good for men?   \n",
       "133519   What are some sentence examples using \"censure\"?   \n",
       "106739  What if my 17 years old son wants to leave Eng...   \n",
       "221187  Why do some people wake up sweating in the mor...   \n",
       "203881  I have excessive sweating at the armpits from ...   \n",
       "\n",
       "                                                question2  is_duplicate  \n",
       "91854   Is it okay to think or care about someone if t...             0  \n",
       "5937               What is an easy way make money online?             1  \n",
       "135792  When people of other languages speak to each o...             0  \n",
       "290212                       Why do people love cannabis?             0  \n",
       "173185  My dad always yells at me and causes me anxiet...             0  \n",
       "73783                                Is yoga bad for men?             0  \n",
       "133519   What are some sentence examples using \"absolve\"?             0  \n",
       "106739  I am a 40 year old mom. Should I still let my ...             0  \n",
       "221187  What are causes for waking up sweating every m...             1  \n",
       "203881            How do I keep my armpits from sweating?             1  "
      ]
     },
     "execution_count": 4,
     "metadata": {},
     "output_type": "execute_result"
    }
   ],
   "source": [
    "df.sample(10)"
   ]
  },
  {
   "cell_type": "code",
   "execution_count": 5,
   "id": "c52699c9-1e4e-43ab-8213-4344838349e6",
   "metadata": {},
   "outputs": [
    {
     "data": {
      "text/plain": [
       "id              0\n",
       "qid1            0\n",
       "qid2            0\n",
       "question1       1\n",
       "question2       2\n",
       "is_duplicate    0\n",
       "dtype: int64"
      ]
     },
     "execution_count": 5,
     "metadata": {},
     "output_type": "execute_result"
    }
   ],
   "source": [
    "# null values\n",
    "df.isnull().sum()"
   ]
  },
  {
   "cell_type": "code",
   "execution_count": 6,
   "id": "4881591a-a745-41a0-84e1-2936a64d26aa",
   "metadata": {},
   "outputs": [
    {
     "data": {
      "text/plain": [
       "0"
      ]
     },
     "execution_count": 6,
     "metadata": {},
     "output_type": "execute_result"
    }
   ],
   "source": [
    "# duplicate rows\n",
    "df.duplicated().sum()"
   ]
  },
  {
   "cell_type": "code",
   "execution_count": 8,
   "id": "458aab7a-1b7d-48b5-a2c3-da135cea74d7",
   "metadata": {},
   "outputs": [
    {
     "name": "stdout",
     "output_type": "stream",
     "text": [
      "0    255027\n",
      "1    149263\n",
      "Name: is_duplicate, dtype: int64\n",
      "0    63.080215\n",
      "1    36.919785\n",
      "Name: is_duplicate, dtype: float64\n"
     ]
    },
    {
     "data": {
      "text/plain": [
       "<AxesSubplot:>"
      ]
     },
     "execution_count": 8,
     "metadata": {},
     "output_type": "execute_result"
    },
    {
     "data": {
      "image/png": "[encoded data removed]",
      "text/plain": [
       "<Figure size 640x480 with 1 Axes>"
      ]
     },
     "metadata": {},
     "output_type": "display_data"
    }
   ],
   "source": [
    "#distribution of duplicate and non-duplicate questiions\n",
    "\n",
    "print(df['is_duplicate'].value_counts())\n",
    "print((df['is_duplicate'].value_counts()/df['is_duplicate'].count())*100)\n",
    "df['is_duplicate'].value_counts().plot(kind='bar')"
   ]
  },
  {
   "cell_type": "code",
   "execution_count": 10,
   "id": "7096f8af-1203-417e-a081-5a79cf9ad230",
   "metadata": {},
   "outputs": [
    {
     "name": "stdout",
     "output_type": "stream",
     "text": [
      "Unique:  537933\n",
      "Repeated:  111780\n"
     ]
    }
   ],
   "source": [
    "qid = pd.Series(df['qid1'].tolist() + df['qid2'].tolist())\n",
    "print(\"Unique: \",np.unique(qid).shape[0])\n",
    "\n",
    "x = qid.value_counts()>1\n",
    "print(\"Repeated: \", x[x].shape[0])"
   ]
  },
  {
   "cell_type": "code",
   "execution_count": 12,
   "id": "e8be1206-b20a-46ef-a3e2-93a3f8ee8410",
   "metadata": {},
   "outputs": [
    {
     "data": {
      "image/png": "[encoded data removed]",
      "text/plain": [
       "<Figure size 640x480 with 1 Axes>"
      ]
     },
     "metadata": {},
     "output_type": "display_data"
    }
   ],
   "source": [
    "plt.hist(qid.value_counts().values,bins=100)\n",
    "plt.yscale('log')\n",
    "plt.show()"
   ]
  },
  {
   "cell_type": "code",
   "execution_count": null,
   "id": "ee2a468f-a2f6-4108-bbc6-1d7c775065ee",
   "metadata": {},
   "outputs": [],
   "source": []
  }
 ],
 "metadata": {
  "kernelspec": {
   "display_name": "Python 3 (ipykernel)",
   "language": "python",
   "name": "python3"
  },
  "language_info": {
   "codemirror_mode": {
    "name": "ipython",
    "version": 3
   },
   "file_extension": ".py",
   "mimetype": "text/x-python",
   "name": "python",
   "nbconvert_exporter": "python",
   "pygments_lexer": "ipython3",
   "version": "3.9.13"
  }
 },
 "nbformat": 4,
 "nbformat_minor": 5
}
