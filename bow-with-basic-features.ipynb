{
 "cells": [
  {
   "cell_type": "code",
   "execution_count": 2,
   "id": "fd865c4d-bc24-4873-87fd-cc9ed9219679",
   "metadata": {},
   "outputs": [],
   "source": [
    "import numpy as np\n",
    "import pandas as pd\n",
    "import matplotlib.pyplot as plt\n",
    "import seaborn as sns\n",
    "\n",
    "import warnings\n",
    "warnings.filterwarnings('ignore')"
   ]
  },
  {
   "cell_type": "code",
   "execution_count": 3,
   "id": "d2b27a0a-3343-4eb5-93f4-faa28a61fb51",
   "metadata": {},
   "outputs": [],
   "source": [
    "df = pd.read_csv('train.csv')"
   ]
  },
  {
   "cell_type": "code",
   "execution_count": 4,
   "id": "5a02fce5-9e4a-4c4a-a39e-f777b4a4158f",
   "metadata": {},
   "outputs": [
    {
     "data": {
      "text/plain": [
       "(404290, 6)"
      ]
     },
     "execution_count": 4,
     "metadata": {},
     "output_type": "execute_result"
    }
   ],
   "source": [
    "df.shape"
   ]
  },
  {
   "cell_type": "code",
   "execution_count": 5,
   "id": "86f01634-e2ab-403a-bbd6-dfb52dbc86c3",
   "metadata": {},
   "outputs": [
    {
     "data": {
      "text/html": [
       "<div>\n",
       "<style scoped>\n",
       "    .dataframe tbody tr th:only-of-type {\n",
       "        vertical-align: middle;\n",
       "    }\n",
       "\n",
       "    .dataframe tbody tr th {\n",
       "        vertical-align: top;\n",
       "    }\n",
       "\n",
       "    .dataframe thead th {\n",
       "        text-align: right;\n",
       "    }\n",
       "</style>\n",
       "<table border=\"1\" class=\"dataframe\">\n",
       "  <thead>\n",
       "    <tr style=\"text-align: right;\">\n",
       "      <th></th>\n",
       "      <th>id</th>\n",
       "      <th>qid1</th>\n",
       "      <th>qid2</th>\n",
       "      <th>question1</th>\n",
       "      <th>question2</th>\n",
       "      <th>is_duplicate</th>\n",
       "    </tr>\n",
       "  </thead>\n",
       "  <tbody>\n",
       "    <tr>\n",
       "      <th>0</th>\n",
       "      <td>0</td>\n",
       "      <td>1</td>\n",
       "      <td>2</td>\n",
       "      <td>What is the step by step guide to invest in sh...</td>\n",
       "      <td>What is the step by step guide to invest in sh...</td>\n",
       "      <td>0</td>\n",
       "    </tr>\n",
       "    <tr>\n",
       "      <th>1</th>\n",
       "      <td>1</td>\n",
       "      <td>3</td>\n",
       "      <td>4</td>\n",
       "      <td>What is the story of Kohinoor (Koh-i-Noor) Dia...</td>\n",
       "      <td>What would happen if the Indian government sto...</td>\n",
       "      <td>0</td>\n",
       "    </tr>\n",
       "    <tr>\n",
       "      <th>2</th>\n",
       "      <td>2</td>\n",
       "      <td>5</td>\n",
       "      <td>6</td>\n",
       "      <td>How can I increase the speed of my internet co...</td>\n",
       "      <td>How can Internet speed be increased by hacking...</td>\n",
       "      <td>0</td>\n",
       "    </tr>\n",
       "    <tr>\n",
       "      <th>3</th>\n",
       "      <td>3</td>\n",
       "      <td>7</td>\n",
       "      <td>8</td>\n",
       "      <td>Why am I mentally very lonely? How can I solve...</td>\n",
       "      <td>Find the remainder when [math]23^{24}[/math] i...</td>\n",
       "      <td>0</td>\n",
       "    </tr>\n",
       "    <tr>\n",
       "      <th>4</th>\n",
       "      <td>4</td>\n",
       "      <td>9</td>\n",
       "      <td>10</td>\n",
       "      <td>Which one dissolve in water quikly sugar, salt...</td>\n",
       "      <td>Which fish would survive in salt water?</td>\n",
       "      <td>0</td>\n",
       "    </tr>\n",
       "  </tbody>\n",
       "</table>\n",
       "</div>"
      ],
      "text/plain": [
       "   id  qid1  qid2                                          question1  \\\n",
       "0   0     1     2  What is the step by step guide to invest in sh...   \n",
       "1   1     3     4  What is the story of Kohinoor (Koh-i-Noor) Dia...   \n",
       "2   2     5     6  How can I increase the speed of my internet co...   \n",
       "3   3     7     8  Why am I mentally very lonely? How can I solve...   \n",
       "4   4     9    10  Which one dissolve in water quikly sugar, salt...   \n",
       "\n",
       "                                           question2  is_duplicate  \n",
       "0  What is the step by step guide to invest in sh...             0  \n",
       "1  What would happen if the Indian government sto...             0  \n",
       "2  How can Internet speed be increased by hacking...             0  \n",
       "3  Find the remainder when [math]23^{24}[/math] i...             0  \n",
       "4            Which fish would survive in salt water?             0  "
      ]
     },
     "execution_count": 5,
     "metadata": {},
     "output_type": "execute_result"
    }
   ],
   "source": [
    "df.head()"
   ]
  },
  {
   "cell_type": "code",
   "execution_count": 6,
   "id": "19ad33eb-b662-45ce-8f12-fc123dcaf35a",
   "metadata": {},
   "outputs": [
    {
     "data": {
      "text/plain": [
       "id              0\n",
       "qid1            0\n",
       "qid2            0\n",
       "question1       1\n",
       "question2       2\n",
       "is_duplicate    0\n",
       "dtype: int64"
      ]
     },
     "execution_count": 6,
     "metadata": {},
     "output_type": "execute_result"
    }
   ],
   "source": [
    "df.isnull().sum()"
   ]
  },
  {
   "cell_type": "code",
   "execution_count": 7,
   "id": "46f4d37d-28e4-465e-9686-c857999297b3",
   "metadata": {},
   "outputs": [],
   "source": [
    "df = df.dropna(subset=['question1','question2'])"
   ]
  },
  {
   "cell_type": "code",
   "execution_count": 8,
   "id": "87d2e4c3-37f0-4245-a622-ca58f1479892",
   "metadata": {},
   "outputs": [],
   "source": [
    "new_df = df.sample(30000, random_state=2)"
   ]
  },
  {
   "cell_type": "code",
   "execution_count": 9,
   "id": "aec89908-6a7e-4a6d-9a42-266a6f231e23",
   "metadata": {},
   "outputs": [
    {
     "data": {
      "text/html": [
       "<div>\n",
       "<style scoped>\n",
       "    .dataframe tbody tr th:only-of-type {\n",
       "        vertical-align: middle;\n",
       "    }\n",
       "\n",
       "    .dataframe tbody tr th {\n",
       "        vertical-align: top;\n",
       "    }\n",
       "\n",
       "    .dataframe thead th {\n",
       "        text-align: right;\n",
       "    }\n",
       "</style>\n",
       "<table border=\"1\" class=\"dataframe\">\n",
       "  <thead>\n",
       "    <tr style=\"text-align: right;\">\n",
       "      <th></th>\n",
       "      <th>id</th>\n",
       "      <th>qid1</th>\n",
       "      <th>qid2</th>\n",
       "      <th>question1</th>\n",
       "      <th>question2</th>\n",
       "      <th>is_duplicate</th>\n",
       "    </tr>\n",
       "  </thead>\n",
       "  <tbody>\n",
       "    <tr>\n",
       "      <th>331535</th>\n",
       "      <td>331535</td>\n",
       "      <td>169053</td>\n",
       "      <td>295926</td>\n",
       "      <td>How can I learn Norwegian?</td>\n",
       "      <td>What is the quickest way to learn Norwegian?</td>\n",
       "      <td>1</td>\n",
       "    </tr>\n",
       "    <tr>\n",
       "      <th>45407</th>\n",
       "      <td>45407</td>\n",
       "      <td>81383</td>\n",
       "      <td>81384</td>\n",
       "      <td>How are currency rates determined?</td>\n",
       "      <td>Where and how are exchange rates determined?</td>\n",
       "      <td>1</td>\n",
       "    </tr>\n",
       "    <tr>\n",
       "      <th>286200</th>\n",
       "      <td>286200</td>\n",
       "      <td>285024</td>\n",
       "      <td>406729</td>\n",
       "      <td>What is substitution?</td>\n",
       "      <td>What is a substitute for caciocavallo?</td>\n",
       "      <td>0</td>\n",
       "    </tr>\n",
       "    <tr>\n",
       "      <th>157195</th>\n",
       "      <td>157195</td>\n",
       "      <td>245856</td>\n",
       "      <td>245857</td>\n",
       "      <td>How can I make iPhone 4s faster with IOS 9.2?</td>\n",
       "      <td>I have an iPhone 4S. How do I make it faster a...</td>\n",
       "      <td>1</td>\n",
       "    </tr>\n",
       "    <tr>\n",
       "      <th>154346</th>\n",
       "      <td>154346</td>\n",
       "      <td>242075</td>\n",
       "      <td>242076</td>\n",
       "      <td>How can I help my girlfriend cope with her par...</td>\n",
       "      <td>What can I do to help my girlfriend through he...</td>\n",
       "      <td>1</td>\n",
       "    </tr>\n",
       "  </tbody>\n",
       "</table>\n",
       "</div>"
      ],
      "text/plain": [
       "            id    qid1    qid2  \\\n",
       "331535  331535  169053  295926   \n",
       "45407    45407   81383   81384   \n",
       "286200  286200  285024  406729   \n",
       "157195  157195  245856  245857   \n",
       "154346  154346  242075  242076   \n",
       "\n",
       "                                                question1  \\\n",
       "331535                         How can I learn Norwegian?   \n",
       "45407                  How are currency rates determined?   \n",
       "286200                              What is substitution?   \n",
       "157195      How can I make iPhone 4s faster with IOS 9.2?   \n",
       "154346  How can I help my girlfriend cope with her par...   \n",
       "\n",
       "                                                question2  is_duplicate  \n",
       "331535       What is the quickest way to learn Norwegian?             1  \n",
       "45407        Where and how are exchange rates determined?             1  \n",
       "286200             What is a substitute for caciocavallo?             0  \n",
       "157195  I have an iPhone 4S. How do I make it faster a...             1  \n",
       "154346  What can I do to help my girlfriend through he...             1  "
      ]
     },
     "execution_count": 9,
     "metadata": {},
     "output_type": "execute_result"
    }
   ],
   "source": [
    "new_df.head()"
   ]
  },
  {
   "cell_type": "code",
   "execution_count": 10,
   "id": "24d4770f-1f50-41da-8d67-8731a911d09f",
   "metadata": {},
   "outputs": [
    {
     "data": {
      "text/plain": [
       "0"
      ]
     },
     "execution_count": 10,
     "metadata": {},
     "output_type": "execute_result"
    }
   ],
   "source": [
    "new_df.duplicated().sum()"
   ]
  },
  {
   "cell_type": "code",
   "execution_count": 11,
   "id": "fd214331-0fdf-4620-8212-788d37a4afa2",
   "metadata": {},
   "outputs": [
    {
     "name": "stdout",
     "output_type": "stream",
     "text": [
      "0    18834\n",
      "1    11166\n",
      "Name: is_duplicate, dtype: int64\n",
      "0    62.78\n",
      "1    37.22\n",
      "Name: is_duplicate, dtype: float64\n"
     ]
    },
    {
     "data": {
      "text/plain": [
       "<AxesSubplot:>"
      ]
     },
     "execution_count": 11,
     "metadata": {},
     "output_type": "execute_result"
    },
    {
     "data": {
      "image/png": "[encoded data removed]",
      "text/plain": [
       "<Figure size 640x480 with 1 Axes>"
      ]
     },
     "metadata": {},
     "output_type": "display_data"
    }
   ],
   "source": [
    "print(new_df['is_duplicate'].value_counts())\n",
    "print((new_df['is_duplicate'].value_counts()/new_df['is_duplicate'].count())*100)\n",
    "new_df['is_duplicate'].value_counts().plot(kind='bar')"
   ]
  },
  {
   "cell_type": "code",
   "execution_count": 12,
   "id": "39a99cd3-c55c-4c06-8705-9173edc286c8",
   "metadata": {},
   "outputs": [
    {
     "name": "stdout",
     "output_type": "stream",
     "text": [
      "No. of unique questions:  55311\n",
      "No. of questions repeated:  3485\n"
     ]
    }
   ],
   "source": [
    "qid = pd.Series(new_df['qid1'].tolist() + new_df['qid2'].tolist())\n",
    "print(\"No. of unique questions: \", np.unique(qid).shape[0])\n",
    "x = qid.value_counts() > 1\n",
    "print(\"No. of questions repeated: \", x[x].shape[0])"
   ]
  },
  {
   "cell_type": "code",
   "execution_count": 13,
   "id": "d54904aa-f45a-4b9b-b132-7477b76eb8b0",
   "metadata": {},
   "outputs": [
    {
     "data": {
      "image/png": "[encoded data removed]",
      "text/plain": [
       "<Figure size 640x480 with 1 Axes>"
      ]
     },
     "metadata": {},
     "output_type": "display_data"
    }
   ],
   "source": [
    "plt.hist(qid.value_counts().values, bins=160)\n",
    "plt.yscale('log')\n",
    "plt.show()"
   ]
  },
  {
   "cell_type": "code",
   "execution_count": 14,
   "id": "b941c700-2cb4-43a0-bb50-2908f3630b96",
   "metadata": {},
   "outputs": [],
   "source": [
    "new_df['q1_len'] = new_df['question1'].str.len()\n",
    "new_df['q2_len'] = new_df['question2'].str.len()    "
   ]
  },
  {
   "cell_type": "code",
   "execution_count": 15,
   "id": "8f547adc-4c76-4e7d-b5c6-2d2c43fe4208",
   "metadata": {},
   "outputs": [
    {
     "data": {
      "text/html": [
       "<div>\n",
       "<style scoped>\n",
       "    .dataframe tbody tr th:only-of-type {\n",
       "        vertical-align: middle;\n",
       "    }\n",
       "\n",
       "    .dataframe tbody tr th {\n",
       "        vertical-align: top;\n",
       "    }\n",
       "\n",
       "    .dataframe thead th {\n",
       "        text-align: right;\n",
       "    }\n",
       "</style>\n",
       "<table border=\"1\" class=\"dataframe\">\n",
       "  <thead>\n",
       "    <tr style=\"text-align: right;\">\n",
       "      <th></th>\n",
       "      <th>id</th>\n",
       "      <th>qid1</th>\n",
       "      <th>qid2</th>\n",
       "      <th>question1</th>\n",
       "      <th>question2</th>\n",
       "      <th>is_duplicate</th>\n",
       "      <th>q1_len</th>\n",
       "      <th>q2_len</th>\n",
       "    </tr>\n",
       "  </thead>\n",
       "  <tbody>\n",
       "    <tr>\n",
       "      <th>331535</th>\n",
       "      <td>331535</td>\n",
       "      <td>169053</td>\n",
       "      <td>295926</td>\n",
       "      <td>How can I learn Norwegian?</td>\n",
       "      <td>What is the quickest way to learn Norwegian?</td>\n",
       "      <td>1</td>\n",
       "      <td>26</td>\n",
       "      <td>44</td>\n",
       "    </tr>\n",
       "    <tr>\n",
       "      <th>45407</th>\n",
       "      <td>45407</td>\n",
       "      <td>81383</td>\n",
       "      <td>81384</td>\n",
       "      <td>How are currency rates determined?</td>\n",
       "      <td>Where and how are exchange rates determined?</td>\n",
       "      <td>1</td>\n",
       "      <td>34</td>\n",
       "      <td>44</td>\n",
       "    </tr>\n",
       "    <tr>\n",
       "      <th>286200</th>\n",
       "      <td>286200</td>\n",
       "      <td>285024</td>\n",
       "      <td>406729</td>\n",
       "      <td>What is substitution?</td>\n",
       "      <td>What is a substitute for caciocavallo?</td>\n",
       "      <td>0</td>\n",
       "      <td>21</td>\n",
       "      <td>38</td>\n",
       "    </tr>\n",
       "    <tr>\n",
       "      <th>157195</th>\n",
       "      <td>157195</td>\n",
       "      <td>245856</td>\n",
       "      <td>245857</td>\n",
       "      <td>How can I make iPhone 4s faster with IOS 9.2?</td>\n",
       "      <td>I have an iPhone 4S. How do I make it faster a...</td>\n",
       "      <td>1</td>\n",
       "      <td>45</td>\n",
       "      <td>73</td>\n",
       "    </tr>\n",
       "    <tr>\n",
       "      <th>154346</th>\n",
       "      <td>154346</td>\n",
       "      <td>242075</td>\n",
       "      <td>242076</td>\n",
       "      <td>How can I help my girlfriend cope with her par...</td>\n",
       "      <td>What can I do to help my girlfriend through he...</td>\n",
       "      <td>1</td>\n",
       "      <td>59</td>\n",
       "      <td>64</td>\n",
       "    </tr>\n",
       "  </tbody>\n",
       "</table>\n",
       "</div>"
      ],
      "text/plain": [
       "            id    qid1    qid2  \\\n",
       "331535  331535  169053  295926   \n",
       "45407    45407   81383   81384   \n",
       "286200  286200  285024  406729   \n",
       "157195  157195  245856  245857   \n",
       "154346  154346  242075  242076   \n",
       "\n",
       "                                                question1  \\\n",
       "331535                         How can I learn Norwegian?   \n",
       "45407                  How are currency rates determined?   \n",
       "286200                              What is substitution?   \n",
       "157195      How can I make iPhone 4s faster with IOS 9.2?   \n",
       "154346  How can I help my girlfriend cope with her par...   \n",
       "\n",
       "                                                question2  is_duplicate  \\\n",
       "331535       What is the quickest way to learn Norwegian?             1   \n",
       "45407        Where and how are exchange rates determined?             1   \n",
       "286200             What is a substitute for caciocavallo?             0   \n",
       "157195  I have an iPhone 4S. How do I make it faster a...             1   \n",
       "154346  What can I do to help my girlfriend through he...             1   \n",
       "\n",
       "        q1_len  q2_len  \n",
       "331535      26      44  \n",
       "45407       34      44  \n",
       "286200      21      38  \n",
       "157195      45      73  \n",
       "154346      59      64  "
      ]
     },
     "execution_count": 15,
     "metadata": {},
     "output_type": "execute_result"
    }
   ],
   "source": [
    "new_df.head()"
   ]
  },
  {
   "cell_type": "code",
   "execution_count": 16,
   "id": "e4ae693c-9fb0-4633-a44a-24d3fd21120a",
   "metadata": {},
   "outputs": [],
   "source": [
    "new_df['q1_num_words'] = new_df['question1'].apply(lambda row: len(row.split(\" \")))\n",
    "new_df['q2_num_words'] = new_df['question2'].apply(lambda row: len(row.split(\" \")))"
   ]
  },
  {
   "cell_type": "code",
   "execution_count": 17,
   "id": "5ad016d1-7cc0-4681-8521-777efa2e972f",
   "metadata": {},
   "outputs": [
    {
     "data": {
      "text/html": [
       "<div>\n",
       "<style scoped>\n",
       "    .dataframe tbody tr th:only-of-type {\n",
       "        vertical-align: middle;\n",
       "    }\n",
       "\n",
       "    .dataframe tbody tr th {\n",
       "        vertical-align: top;\n",
       "    }\n",
       "\n",
       "    .dataframe thead th {\n",
       "        text-align: right;\n",
       "    }\n",
       "</style>\n",
       "<table border=\"1\" class=\"dataframe\">\n",
       "  <thead>\n",
       "    <tr style=\"text-align: right;\">\n",
       "      <th></th>\n",
       "      <th>id</th>\n",
       "      <th>qid1</th>\n",
       "      <th>qid2</th>\n",
       "      <th>question1</th>\n",
       "      <th>question2</th>\n",
       "      <th>is_duplicate</th>\n",
       "      <th>q1_len</th>\n",
       "      <th>q2_len</th>\n",
       "      <th>q1_num_words</th>\n",
       "      <th>q2_num_words</th>\n",
       "    </tr>\n",
       "  </thead>\n",
       "  <tbody>\n",
       "    <tr>\n",
       "      <th>331535</th>\n",
       "      <td>331535</td>\n",
       "      <td>169053</td>\n",
       "      <td>295926</td>\n",
       "      <td>How can I learn Norwegian?</td>\n",
       "      <td>What is the quickest way to learn Norwegian?</td>\n",
       "      <td>1</td>\n",
       "      <td>26</td>\n",
       "      <td>44</td>\n",
       "      <td>5</td>\n",
       "      <td>8</td>\n",
       "    </tr>\n",
       "    <tr>\n",
       "      <th>45407</th>\n",
       "      <td>45407</td>\n",
       "      <td>81383</td>\n",
       "      <td>81384</td>\n",
       "      <td>How are currency rates determined?</td>\n",
       "      <td>Where and how are exchange rates determined?</td>\n",
       "      <td>1</td>\n",
       "      <td>34</td>\n",
       "      <td>44</td>\n",
       "      <td>5</td>\n",
       "      <td>7</td>\n",
       "    </tr>\n",
       "    <tr>\n",
       "      <th>286200</th>\n",
       "      <td>286200</td>\n",
       "      <td>285024</td>\n",
       "      <td>406729</td>\n",
       "      <td>What is substitution?</td>\n",
       "      <td>What is a substitute for caciocavallo?</td>\n",
       "      <td>0</td>\n",
       "      <td>21</td>\n",
       "      <td>38</td>\n",
       "      <td>3</td>\n",
       "      <td>6</td>\n",
       "    </tr>\n",
       "    <tr>\n",
       "      <th>157195</th>\n",
       "      <td>157195</td>\n",
       "      <td>245856</td>\n",
       "      <td>245857</td>\n",
       "      <td>How can I make iPhone 4s faster with IOS 9.2?</td>\n",
       "      <td>I have an iPhone 4S. How do I make it faster a...</td>\n",
       "      <td>1</td>\n",
       "      <td>45</td>\n",
       "      <td>73</td>\n",
       "      <td>10</td>\n",
       "      <td>16</td>\n",
       "    </tr>\n",
       "    <tr>\n",
       "      <th>154346</th>\n",
       "      <td>154346</td>\n",
       "      <td>242075</td>\n",
       "      <td>242076</td>\n",
       "      <td>How can I help my girlfriend cope with her par...</td>\n",
       "      <td>What can I do to help my girlfriend through he...</td>\n",
       "      <td>1</td>\n",
       "      <td>59</td>\n",
       "      <td>64</td>\n",
       "      <td>11</td>\n",
       "      <td>12</td>\n",
       "    </tr>\n",
       "  </tbody>\n",
       "</table>\n",
       "</div>"
      ],
      "text/plain": [
       "            id    qid1    qid2  \\\n",
       "331535  331535  169053  295926   \n",
       "45407    45407   81383   81384   \n",
       "286200  286200  285024  406729   \n",
       "157195  157195  245856  245857   \n",
       "154346  154346  242075  242076   \n",
       "\n",
       "                                                question1  \\\n",
       "331535                         How can I learn Norwegian?   \n",
       "45407                  How are currency rates determined?   \n",
       "286200                              What is substitution?   \n",
       "157195      How can I make iPhone 4s faster with IOS 9.2?   \n",
       "154346  How can I help my girlfriend cope with her par...   \n",
       "\n",
       "                                                question2  is_duplicate  \\\n",
       "331535       What is the quickest way to learn Norwegian?             1   \n",
       "45407        Where and how are exchange rates determined?             1   \n",
       "286200             What is a substitute for caciocavallo?             0   \n",
       "157195  I have an iPhone 4S. How do I make it faster a...             1   \n",
       "154346  What can I do to help my girlfriend through he...             1   \n",
       "\n",
       "        q1_len  q2_len  q1_num_words  q2_num_words  \n",
       "331535      26      44             5             8  \n",
       "45407       34      44             5             7  \n",
       "286200      21      38             3             6  \n",
       "157195      45      73            10            16  \n",
       "154346      59      64            11            12  "
      ]
     },
     "execution_count": 17,
     "metadata": {},
     "output_type": "execute_result"
    }
   ],
   "source": [
    "new_df.head()"
   ]
  },
  {
   "cell_type": "code",
   "execution_count": 22,
   "id": "12790067-ff54-48c2-99a3-ab1b1275760b",
   "metadata": {},
   "outputs": [],
   "source": [
    "def common_words(row):\n",
    "    w1 = set(map(lambda word: word.lower().strip(), row['question1'].split(\" \")))\n",
    "    w2 = set(map(lambda word: word.lower().strip(), row['question2'].split(\" \")))\n",
    "    return len(w1 & w2)"
   ]
  },
  {
   "cell_type": "code",
   "execution_count": 30,
   "id": "30f85234-d216-4695-9b4e-60f505012bb8",
   "metadata": {},
   "outputs": [
    {
     "data": {
      "text/html": [
       "<div>\n",
       "<style scoped>\n",
       "    .dataframe tbody tr th:only-of-type {\n",
       "        vertical-align: middle;\n",
       "    }\n",
       "\n",
       "    .dataframe tbody tr th {\n",
       "        vertical-align: top;\n",
       "    }\n",
       "\n",
       "    .dataframe thead th {\n",
       "        text-align: right;\n",
       "    }\n",
       "</style>\n",
       "<table border=\"1\" class=\"dataframe\">\n",
       "  <thead>\n",
       "    <tr style=\"text-align: right;\">\n",
       "      <th></th>\n",
       "      <th>id</th>\n",
       "      <th>qid1</th>\n",
       "      <th>qid2</th>\n",
       "      <th>question1</th>\n",
       "      <th>question2</th>\n",
       "      <th>is_duplicate</th>\n",
       "      <th>q1_len</th>\n",
       "      <th>q2_len</th>\n",
       "      <th>q1_num_words</th>\n",
       "      <th>q2_num_words</th>\n",
       "      <th>word_common</th>\n",
       "      <th>word_total</th>\n",
       "      <th>words_total</th>\n",
       "      <th>words_common</th>\n",
       "    </tr>\n",
       "  </thead>\n",
       "  <tbody>\n",
       "    <tr>\n",
       "      <th>331535</th>\n",
       "      <td>331535</td>\n",
       "      <td>169053</td>\n",
       "      <td>295926</td>\n",
       "      <td>How can I learn Norwegian?</td>\n",
       "      <td>What is the quickest way to learn Norwegian?</td>\n",
       "      <td>1</td>\n",
       "      <td>26</td>\n",
       "      <td>44</td>\n",
       "      <td>5</td>\n",
       "      <td>8</td>\n",
       "      <td>2</td>\n",
       "      <td>13</td>\n",
       "      <td>13</td>\n",
       "      <td>2</td>\n",
       "    </tr>\n",
       "    <tr>\n",
       "      <th>45407</th>\n",
       "      <td>45407</td>\n",
       "      <td>81383</td>\n",
       "      <td>81384</td>\n",
       "      <td>How are currency rates determined?</td>\n",
       "      <td>Where and how are exchange rates determined?</td>\n",
       "      <td>1</td>\n",
       "      <td>34</td>\n",
       "      <td>44</td>\n",
       "      <td>5</td>\n",
       "      <td>7</td>\n",
       "      <td>4</td>\n",
       "      <td>12</td>\n",
       "      <td>12</td>\n",
       "      <td>4</td>\n",
       "    </tr>\n",
       "    <tr>\n",
       "      <th>286200</th>\n",
       "      <td>286200</td>\n",
       "      <td>285024</td>\n",
       "      <td>406729</td>\n",
       "      <td>What is substitution?</td>\n",
       "      <td>What is a substitute for caciocavallo?</td>\n",
       "      <td>0</td>\n",
       "      <td>21</td>\n",
       "      <td>38</td>\n",
       "      <td>3</td>\n",
       "      <td>6</td>\n",
       "      <td>2</td>\n",
       "      <td>9</td>\n",
       "      <td>9</td>\n",
       "      <td>2</td>\n",
       "    </tr>\n",
       "    <tr>\n",
       "      <th>157195</th>\n",
       "      <td>157195</td>\n",
       "      <td>245856</td>\n",
       "      <td>245857</td>\n",
       "      <td>How can I make iPhone 4s faster with IOS 9.2?</td>\n",
       "      <td>I have an iPhone 4S. How do I make it faster a...</td>\n",
       "      <td>1</td>\n",
       "      <td>45</td>\n",
       "      <td>73</td>\n",
       "      <td>10</td>\n",
       "      <td>16</td>\n",
       "      <td>5</td>\n",
       "      <td>25</td>\n",
       "      <td>25</td>\n",
       "      <td>5</td>\n",
       "    </tr>\n",
       "    <tr>\n",
       "      <th>154346</th>\n",
       "      <td>154346</td>\n",
       "      <td>242075</td>\n",
       "      <td>242076</td>\n",
       "      <td>How can I help my girlfriend cope with her par...</td>\n",
       "      <td>What can I do to help my girlfriend through he...</td>\n",
       "      <td>1</td>\n",
       "      <td>59</td>\n",
       "      <td>64</td>\n",
       "      <td>11</td>\n",
       "      <td>12</td>\n",
       "      <td>8</td>\n",
       "      <td>23</td>\n",
       "      <td>23</td>\n",
       "      <td>8</td>\n",
       "    </tr>\n",
       "  </tbody>\n",
       "</table>\n",
       "</div>"
      ],
      "text/plain": [
       "            id    qid1    qid2  \\\n",
       "331535  331535  169053  295926   \n",
       "45407    45407   81383   81384   \n",
       "286200  286200  285024  406729   \n",
       "157195  157195  245856  245857   \n",
       "154346  154346  242075  242076   \n",
       "\n",
       "                                                question1  \\\n",
       "331535                         How can I learn Norwegian?   \n",
       "45407                  How are currency rates determined?   \n",
       "286200                              What is substitution?   \n",
       "157195      How can I make iPhone 4s faster with IOS 9.2?   \n",
       "154346  How can I help my girlfriend cope with her par...   \n",
       "\n",
       "                                                question2  is_duplicate  \\\n",
       "331535       What is the quickest way to learn Norwegian?             1   \n",
       "45407        Where and how are exchange rates determined?             1   \n",
       "286200             What is a substitute for caciocavallo?             0   \n",
       "157195  I have an iPhone 4S. How do I make it faster a...             1   \n",
       "154346  What can I do to help my girlfriend through he...             1   \n",
       "\n",
       "        q1_len  q2_len  q1_num_words  q2_num_words  word_common  word_total  \\\n",
       "331535      26      44             5             8            2          13   \n",
       "45407       34      44             5             7            4          12   \n",
       "286200      21      38             3             6            2           9   \n",
       "157195      45      73            10            16            5          25   \n",
       "154346      59      64            11            12            8          23   \n",
       "\n",
       "        words_total  words_common  \n",
       "331535           13             2  \n",
       "45407            12             4  \n",
       "286200            9             2  \n",
       "157195           25             5  \n",
       "154346           23             8  "
      ]
     },
     "execution_count": 30,
     "metadata": {},
     "output_type": "execute_result"
    }
   ],
   "source": [
    "new_df['words_common'] = new_df.apply(common_words, axis=1)\n",
    "new_df.head()"
   ]
  },
  {
   "cell_type": "code",
   "execution_count": 31,
   "id": "9499d115-da8d-4837-a1e0-287f5eba1b15",
   "metadata": {},
   "outputs": [],
   "source": [
    "def total_words(row):\n",
    "    w1 = set(map(lambda word: word.lower().strip(), row['question1'].split(\" \")))\n",
    "    w2 = set(map(lambda word: word.lower().strip(), row['question2'].split(\" \")))\n",
    "    return (len(w1) + len(w2))"
   ]
  },
  {
   "cell_type": "code",
   "execution_count": 32,
   "id": "04a4f9e2-2550-40c7-9a93-0090ba5de679",
   "metadata": {},
   "outputs": [
    {
     "data": {
      "text/html": [
       "<div>\n",
       "<style scoped>\n",
       "    .dataframe tbody tr th:only-of-type {\n",
       "        vertical-align: middle;\n",
       "    }\n",
       "\n",
       "    .dataframe tbody tr th {\n",
       "        vertical-align: top;\n",
       "    }\n",
       "\n",
       "    .dataframe thead th {\n",
       "        text-align: right;\n",
       "    }\n",
       "</style>\n",
       "<table border=\"1\" class=\"dataframe\">\n",
       "  <thead>\n",
       "    <tr style=\"text-align: right;\">\n",
       "      <th></th>\n",
       "      <th>id</th>\n",
       "      <th>qid1</th>\n",
       "      <th>qid2</th>\n",
       "      <th>question1</th>\n",
       "      <th>question2</th>\n",
       "      <th>is_duplicate</th>\n",
       "      <th>q1_len</th>\n",
       "      <th>q2_len</th>\n",
       "      <th>q1_num_words</th>\n",
       "      <th>q2_num_words</th>\n",
       "      <th>word_common</th>\n",
       "      <th>word_total</th>\n",
       "      <th>words_total</th>\n",
       "      <th>words_common</th>\n",
       "    </tr>\n",
       "  </thead>\n",
       "  <tbody>\n",
       "    <tr>\n",
       "      <th>331535</th>\n",
       "      <td>331535</td>\n",
       "      <td>169053</td>\n",
       "      <td>295926</td>\n",
       "      <td>How can I learn Norwegian?</td>\n",
       "      <td>What is the quickest way to learn Norwegian?</td>\n",
       "      <td>1</td>\n",
       "      <td>26</td>\n",
       "      <td>44</td>\n",
       "      <td>5</td>\n",
       "      <td>8</td>\n",
       "      <td>2</td>\n",
       "      <td>13</td>\n",
       "      <td>13</td>\n",
       "      <td>2</td>\n",
       "    </tr>\n",
       "    <tr>\n",
       "      <th>45407</th>\n",
       "      <td>45407</td>\n",
       "      <td>81383</td>\n",
       "      <td>81384</td>\n",
       "      <td>How are currency rates determined?</td>\n",
       "      <td>Where and how are exchange rates determined?</td>\n",
       "      <td>1</td>\n",
       "      <td>34</td>\n",
       "      <td>44</td>\n",
       "      <td>5</td>\n",
       "      <td>7</td>\n",
       "      <td>4</td>\n",
       "      <td>12</td>\n",
       "      <td>12</td>\n",
       "      <td>4</td>\n",
       "    </tr>\n",
       "    <tr>\n",
       "      <th>286200</th>\n",
       "      <td>286200</td>\n",
       "      <td>285024</td>\n",
       "      <td>406729</td>\n",
       "      <td>What is substitution?</td>\n",
       "      <td>What is a substitute for caciocavallo?</td>\n",
       "      <td>0</td>\n",
       "      <td>21</td>\n",
       "      <td>38</td>\n",
       "      <td>3</td>\n",
       "      <td>6</td>\n",
       "      <td>2</td>\n",
       "      <td>9</td>\n",
       "      <td>9</td>\n",
       "      <td>2</td>\n",
       "    </tr>\n",
       "    <tr>\n",
       "      <th>157195</th>\n",
       "      <td>157195</td>\n",
       "      <td>245856</td>\n",
       "      <td>245857</td>\n",
       "      <td>How can I make iPhone 4s faster with IOS 9.2?</td>\n",
       "      <td>I have an iPhone 4S. How do I make it faster a...</td>\n",
       "      <td>1</td>\n",
       "      <td>45</td>\n",
       "      <td>73</td>\n",
       "      <td>10</td>\n",
       "      <td>16</td>\n",
       "      <td>5</td>\n",
       "      <td>25</td>\n",
       "      <td>25</td>\n",
       "      <td>5</td>\n",
       "    </tr>\n",
       "    <tr>\n",
       "      <th>154346</th>\n",
       "      <td>154346</td>\n",
       "      <td>242075</td>\n",
       "      <td>242076</td>\n",
       "      <td>How can I help my girlfriend cope with her par...</td>\n",
       "      <td>What can I do to help my girlfriend through he...</td>\n",
       "      <td>1</td>\n",
       "      <td>59</td>\n",
       "      <td>64</td>\n",
       "      <td>11</td>\n",
       "      <td>12</td>\n",
       "      <td>8</td>\n",
       "      <td>23</td>\n",
       "      <td>23</td>\n",
       "      <td>8</td>\n",
       "    </tr>\n",
       "  </tbody>\n",
       "</table>\n",
       "</div>"
      ],
      "text/plain": [
       "            id    qid1    qid2  \\\n",
       "331535  331535  169053  295926   \n",
       "45407    45407   81383   81384   \n",
       "286200  286200  285024  406729   \n",
       "157195  157195  245856  245857   \n",
       "154346  154346  242075  242076   \n",
       "\n",
       "                                                question1  \\\n",
       "331535                         How can I learn Norwegian?   \n",
       "45407                  How are currency rates determined?   \n",
       "286200                              What is substitution?   \n",
       "157195      How can I make iPhone 4s faster with IOS 9.2?   \n",
       "154346  How can I help my girlfriend cope with her par...   \n",
       "\n",
       "                                                question2  is_duplicate  \\\n",
       "331535       What is the quickest way to learn Norwegian?             1   \n",
       "45407        Where and how are exchange rates determined?             1   \n",
       "286200             What is a substitute for caciocavallo?             0   \n",
       "157195  I have an iPhone 4S. How do I make it faster a...             1   \n",
       "154346  What can I do to help my girlfriend through he...             1   \n",
       "\n",
       "        q1_len  q2_len  q1_num_words  q2_num_words  word_common  word_total  \\\n",
       "331535      26      44             5             8            2          13   \n",
       "45407       34      44             5             7            4          12   \n",
       "286200      21      38             3             6            2           9   \n",
       "157195      45      73            10            16            5          25   \n",
       "154346      59      64            11            12            8          23   \n",
       "\n",
       "        words_total  words_common  \n",
       "331535           13             2  \n",
       "45407            12             4  \n",
       "286200            9             2  \n",
       "157195           25             5  \n",
       "154346           23             8  "
      ]
     },
     "execution_count": 32,
     "metadata": {},
     "output_type": "execute_result"
    }
   ],
   "source": [
    "new_df['words_total'] = new_df.apply(total_words, axis=1)\n",
    "new_df.head()"
   ]
  },
  {
   "cell_type": "code",
   "execution_count": 39,
   "id": "b52c3f79-8cf7-473b-9c5e-9005eb5c66ba",
   "metadata": {},
   "outputs": [
    {
     "data": {
      "text/html": [
       "<div>\n",
       "<style scoped>\n",
       "    .dataframe tbody tr th:only-of-type {\n",
       "        vertical-align: middle;\n",
       "    }\n",
       "\n",
       "    .dataframe tbody tr th {\n",
       "        vertical-align: top;\n",
       "    }\n",
       "\n",
       "    .dataframe thead th {\n",
       "        text-align: right;\n",
       "    }\n",
       "</style>\n",
       "<table border=\"1\" class=\"dataframe\">\n",
       "  <thead>\n",
       "    <tr style=\"text-align: right;\">\n",
       "      <th></th>\n",
       "      <th>id</th>\n",
       "      <th>qid1</th>\n",
       "      <th>qid2</th>\n",
       "      <th>question1</th>\n",
       "      <th>question2</th>\n",
       "      <th>is_duplicate</th>\n",
       "      <th>q1_len</th>\n",
       "      <th>q2_len</th>\n",
       "      <th>q1_num_words</th>\n",
       "      <th>q2_num_words</th>\n",
       "      <th>words_total</th>\n",
       "      <th>words_common</th>\n",
       "      <th>words_share</th>\n",
       "    </tr>\n",
       "  </thead>\n",
       "  <tbody>\n",
       "    <tr>\n",
       "      <th>331535</th>\n",
       "      <td>331535</td>\n",
       "      <td>169053</td>\n",
       "      <td>295926</td>\n",
       "      <td>How can I learn Norwegian?</td>\n",
       "      <td>What is the quickest way to learn Norwegian?</td>\n",
       "      <td>1</td>\n",
       "      <td>26</td>\n",
       "      <td>44</td>\n",
       "      <td>5</td>\n",
       "      <td>8</td>\n",
       "      <td>13</td>\n",
       "      <td>2</td>\n",
       "      <td>0.15</td>\n",
       "    </tr>\n",
       "    <tr>\n",
       "      <th>45407</th>\n",
       "      <td>45407</td>\n",
       "      <td>81383</td>\n",
       "      <td>81384</td>\n",
       "      <td>How are currency rates determined?</td>\n",
       "      <td>Where and how are exchange rates determined?</td>\n",
       "      <td>1</td>\n",
       "      <td>34</td>\n",
       "      <td>44</td>\n",
       "      <td>5</td>\n",
       "      <td>7</td>\n",
       "      <td>12</td>\n",
       "      <td>4</td>\n",
       "      <td>0.33</td>\n",
       "    </tr>\n",
       "    <tr>\n",
       "      <th>286200</th>\n",
       "      <td>286200</td>\n",
       "      <td>285024</td>\n",
       "      <td>406729</td>\n",
       "      <td>What is substitution?</td>\n",
       "      <td>What is a substitute for caciocavallo?</td>\n",
       "      <td>0</td>\n",
       "      <td>21</td>\n",
       "      <td>38</td>\n",
       "      <td>3</td>\n",
       "      <td>6</td>\n",
       "      <td>9</td>\n",
       "      <td>2</td>\n",
       "      <td>0.22</td>\n",
       "    </tr>\n",
       "    <tr>\n",
       "      <th>157195</th>\n",
       "      <td>157195</td>\n",
       "      <td>245856</td>\n",
       "      <td>245857</td>\n",
       "      <td>How can I make iPhone 4s faster with IOS 9.2?</td>\n",
       "      <td>I have an iPhone 4S. How do I make it faster a...</td>\n",
       "      <td>1</td>\n",
       "      <td>45</td>\n",
       "      <td>73</td>\n",
       "      <td>10</td>\n",
       "      <td>16</td>\n",
       "      <td>25</td>\n",
       "      <td>5</td>\n",
       "      <td>0.20</td>\n",
       "    </tr>\n",
       "    <tr>\n",
       "      <th>154346</th>\n",
       "      <td>154346</td>\n",
       "      <td>242075</td>\n",
       "      <td>242076</td>\n",
       "      <td>How can I help my girlfriend cope with her par...</td>\n",
       "      <td>What can I do to help my girlfriend through he...</td>\n",
       "      <td>1</td>\n",
       "      <td>59</td>\n",
       "      <td>64</td>\n",
       "      <td>11</td>\n",
       "      <td>12</td>\n",
       "      <td>23</td>\n",
       "      <td>8</td>\n",
       "      <td>0.35</td>\n",
       "    </tr>\n",
       "  </tbody>\n",
       "</table>\n",
       "</div>"
      ],
      "text/plain": [
       "            id    qid1    qid2  \\\n",
       "331535  331535  169053  295926   \n",
       "45407    45407   81383   81384   \n",
       "286200  286200  285024  406729   \n",
       "157195  157195  245856  245857   \n",
       "154346  154346  242075  242076   \n",
       "\n",
       "                                                question1  \\\n",
       "331535                         How can I learn Norwegian?   \n",
       "45407                  How are currency rates determined?   \n",
       "286200                              What is substitution?   \n",
       "157195      How can I make iPhone 4s faster with IOS 9.2?   \n",
       "154346  How can I help my girlfriend cope with her par...   \n",
       "\n",
       "                                                question2  is_duplicate  \\\n",
       "331535       What is the quickest way to learn Norwegian?             1   \n",
       "45407        Where and how are exchange rates determined?             1   \n",
       "286200             What is a substitute for caciocavallo?             0   \n",
       "157195  I have an iPhone 4S. How do I make it faster a...             1   \n",
       "154346  What can I do to help my girlfriend through he...             1   \n",
       "\n",
       "        q1_len  q2_len  q1_num_words  q2_num_words  words_total  words_common  \\\n",
       "331535      26      44             5             8           13             2   \n",
       "45407       34      44             5             7           12             4   \n",
       "286200      21      38             3             6            9             2   \n",
       "157195      45      73            10            16           25             5   \n",
       "154346      59      64            11            12           23             8   \n",
       "\n",
       "        words_share  \n",
       "331535         0.15  \n",
       "45407          0.33  \n",
       "286200         0.22  \n",
       "157195         0.20  \n",
       "154346         0.35  "
      ]
     },
     "execution_count": 39,
     "metadata": {},
     "output_type": "execute_result"
    }
   ],
   "source": [
    "new_df['words_share'] = round(new_df['words_common']/new_df['words_total'],2)\n",
    "new_df.head()"
   ]
  },
  {
   "cell_type": "code",
   "execution_count": 41,
   "id": "ec7ac4a0-2cf8-4605-b9e0-45ddad5f1df8",
   "metadata": {},
   "outputs": [
    {
     "name": "stdout",
     "output_type": "stream",
     "text": [
      "minimum letters:  1\n",
      "maximum letters:  315\n",
      "average letters: 59\n"
     ]
    },
    {
     "data": {
      "image/png": "[encoded data removed]",
      "text/plain": [
       "<Figure size 500x500 with 1 Axes>"
      ]
     },
     "metadata": {},
     "output_type": "display_data"
    }
   ],
   "source": [
    "sns.displot(new_df['q1_len'])\n",
    "print('minimum letters: ', new_df['q1_len'].min())\n",
    "print('maximum letters: ', new_df['q1_len'].max())\n",
    "print('average letters:', int(new_df['q1_len'].mean()))"
   ]
  },
  {
   "cell_type": "code",
   "execution_count": 42,
   "id": "585903bd-cc2f-4710-8dfa-e71bbec30487",
   "metadata": {},
   "outputs": [
    {
     "name": "stdout",
     "output_type": "stream",
     "text": [
      "minimum letters:  10\n",
      "maximum letters:  1169\n",
      "average letters: 60\n"
     ]
    },
    {
     "data": {
      "image/png": "[encoded data removed]",
      "text/plain": [
       "<Figure size 500x500 with 1 Axes>"
      ]
     },
     "metadata": {},
     "output_type": "display_data"
    }
   ],
   "source": [
    "sns.displot(new_df['q2_len'])\n",
    "print('minimum letters: ', new_df['q2_len'].min())\n",
    "print('maximum letters: ', new_df['q2_len'].max())\n",
    "print('average letters:', int(new_df['q2_len'].mean()))"
   ]
  },
  {
   "cell_type": "code",
   "execution_count": 43,
   "id": "af3b6c47-8cfb-4ca8-bb11-5be3492fded3",
   "metadata": {},
   "outputs": [
    {
     "name": "stdout",
     "output_type": "stream",
     "text": [
      "minimum words 1\n",
      "maximum words 64\n",
      "average num of words 10\n"
     ]
    },
    {
     "data": {
      "image/png": "[encoded data removed]",
      "text/plain": [
       "<Figure size 500x500 with 1 Axes>"
      ]
     },
     "metadata": {},
     "output_type": "display_data"
    }
   ],
   "source": [
    "sns.displot(new_df['q1_num_words'])\n",
    "print('minimum words',new_df['q1_num_words'].min())\n",
    "print('maximum words',new_df['q1_num_words'].max())\n",
    "print('average num of words',int(new_df['q1_num_words'].mean()))"
   ]
  },
  {
   "cell_type": "code",
   "execution_count": 44,
   "id": "3ecd66d3-2a60-4c54-898c-0382d386bd76",
   "metadata": {},
   "outputs": [
    {
     "name": "stdout",
     "output_type": "stream",
     "text": [
      "minimum words 2\n",
      "maximum words 237\n",
      "average num of words 11\n"
     ]
    },
    {
     "data": {
      "image/png": "[encoded data removed]",
      "text/plain": [
       "<Figure size 500x500 with 1 Axes>"
      ]
     },
     "metadata": {},
     "output_type": "display_data"
    }
   ],
   "source": [
    "sns.displot(new_df['q2_num_words'])\n",
    "print('minimum words',new_df['q2_num_words'].min())\n",
    "print('maximum words',new_df['q2_num_words'].max())\n",
    "print('average num of words',int(new_df['q2_num_words'].mean()))"
   ]
  },
  {
   "cell_type": "code",
   "execution_count": 49,
   "id": "56bb1bdf-2cf9-4a33-bda8-fc28ca738201",
   "metadata": {},
   "outputs": [
    {
     "data": {
      "image/png": "[encoded data removed]",
      "text/plain": [
       "<Figure size 640x480 with 1 Axes>"
      ]
     },
     "metadata": {},
     "output_type": "display_data"
    }
   ],
   "source": [
    "sns.distplot(new_df[new_df['is_duplicate'] == 0]['words_common'], label='non duplicate')\n",
    "sns.distplot(new_df[new_df['is_duplicate'] == 1]['words_common'], label='duplicate')\n",
    "plt.legend()\n",
    "plt.show()"
   ]
  },
  {
   "cell_type": "code",
   "execution_count": 50,
   "id": "883588cd-4ee7-47e9-8f06-616687bb5a2f",
   "metadata": {},
   "outputs": [
    {
     "data": {
      "image/png": "[encoded data removed]",
      "text/plain": [
       "<Figure size 640x480 with 1 Axes>"
      ]
     },
     "metadata": {},
     "output_type": "display_data"
    }
   ],
   "source": [
    "sns.distplot(new_df[new_df['is_duplicate'] == 0]['words_total'], label='non duplicate')\n",
    "sns.distplot(new_df[new_df['is_duplicate'] == 1]['words_total'], label='duplicate')\n",
    "plt.legend()\n",
    "plt.show()"
   ]
  },
  {
   "cell_type": "code",
   "execution_count": 52,
   "id": "97ed7ab5-4adf-42ba-8952-3d392df036f4",
   "metadata": {},
   "outputs": [
    {
     "data": {
      "image/png": "[encoded data removed]",
      "text/plain": [
       "<Figure size 640x480 with 1 Axes>"
      ]
     },
     "metadata": {},
     "output_type": "display_data"
    }
   ],
   "source": [
    "sns.distplot(new_df[new_df['is_duplicate'] == 0]['words_share'],label='non duplicate')\n",
    "sns.distplot(new_df[new_df['is_duplicate'] == 1]['words_share'],label='duplicate')\n",
    "plt.legend()\n",
    "plt.show()"
   ]
  },
  {
   "cell_type": "code",
   "execution_count": 53,
   "id": "08927641-ac3f-4ac3-a307-49108e49c045",
   "metadata": {},
   "outputs": [
    {
     "data": {
      "text/html": [
       "<div>\n",
       "<style scoped>\n",
       "    .dataframe tbody tr th:only-of-type {\n",
       "        vertical-align: middle;\n",
       "    }\n",
       "\n",
       "    .dataframe tbody tr th {\n",
       "        vertical-align: top;\n",
       "    }\n",
       "\n",
       "    .dataframe thead th {\n",
       "        text-align: right;\n",
       "    }\n",
       "</style>\n",
       "<table border=\"1\" class=\"dataframe\">\n",
       "  <thead>\n",
       "    <tr style=\"text-align: right;\">\n",
       "      <th></th>\n",
       "      <th>question1</th>\n",
       "      <th>question2</th>\n",
       "    </tr>\n",
       "  </thead>\n",
       "  <tbody>\n",
       "    <tr>\n",
       "      <th>331535</th>\n",
       "      <td>How can I learn Norwegian?</td>\n",
       "      <td>What is the quickest way to learn Norwegian?</td>\n",
       "    </tr>\n",
       "    <tr>\n",
       "      <th>45407</th>\n",
       "      <td>How are currency rates determined?</td>\n",
       "      <td>Where and how are exchange rates determined?</td>\n",
       "    </tr>\n",
       "    <tr>\n",
       "      <th>286200</th>\n",
       "      <td>What is substitution?</td>\n",
       "      <td>What is a substitute for caciocavallo?</td>\n",
       "    </tr>\n",
       "    <tr>\n",
       "      <th>157195</th>\n",
       "      <td>How can I make iPhone 4s faster with IOS 9.2?</td>\n",
       "      <td>I have an iPhone 4S. How do I make it faster a...</td>\n",
       "    </tr>\n",
       "    <tr>\n",
       "      <th>154346</th>\n",
       "      <td>How can I help my girlfriend cope with her par...</td>\n",
       "      <td>What can I do to help my girlfriend through he...</td>\n",
       "    </tr>\n",
       "  </tbody>\n",
       "</table>\n",
       "</div>"
      ],
      "text/plain": [
       "                                                question1  \\\n",
       "331535                         How can I learn Norwegian?   \n",
       "45407                  How are currency rates determined?   \n",
       "286200                              What is substitution?   \n",
       "157195      How can I make iPhone 4s faster with IOS 9.2?   \n",
       "154346  How can I help my girlfriend cope with her par...   \n",
       "\n",
       "                                                question2  \n",
       "331535       What is the quickest way to learn Norwegian?  \n",
       "45407        Where and how are exchange rates determined?  \n",
       "286200             What is a substitute for caciocavallo?  \n",
       "157195  I have an iPhone 4S. How do I make it faster a...  \n",
       "154346  What can I do to help my girlfriend through he...  "
      ]
     },
     "execution_count": 53,
     "metadata": {},
     "output_type": "execute_result"
    }
   ],
   "source": [
    "ques_df = new_df[['question1', 'question2']]\n",
    "ques_df.head()"
   ]
  },
  {
   "cell_type": "code",
   "execution_count": 54,
   "id": "a135e4c2-aa8d-458f-8ba9-b6fc86e884c0",
   "metadata": {},
   "outputs": [
    {
     "name": "stdout",
     "output_type": "stream",
     "text": [
      "(30000, 8)\n"
     ]
    },
    {
     "data": {
      "text/html": [
       "<div>\n",
       "<style scoped>\n",
       "    .dataframe tbody tr th:only-of-type {\n",
       "        vertical-align: middle;\n",
       "    }\n",
       "\n",
       "    .dataframe tbody tr th {\n",
       "        vertical-align: top;\n",
       "    }\n",
       "\n",
       "    .dataframe thead th {\n",
       "        text-align: right;\n",
       "    }\n",
       "</style>\n",
       "<table border=\"1\" class=\"dataframe\">\n",
       "  <thead>\n",
       "    <tr style=\"text-align: right;\">\n",
       "      <th></th>\n",
       "      <th>is_duplicate</th>\n",
       "      <th>q1_len</th>\n",
       "      <th>q2_len</th>\n",
       "      <th>q1_num_words</th>\n",
       "      <th>q2_num_words</th>\n",
       "      <th>words_total</th>\n",
       "      <th>words_common</th>\n",
       "      <th>words_share</th>\n",
       "    </tr>\n",
       "  </thead>\n",
       "  <tbody>\n",
       "    <tr>\n",
       "      <th>331535</th>\n",
       "      <td>1</td>\n",
       "      <td>26</td>\n",
       "      <td>44</td>\n",
       "      <td>5</td>\n",
       "      <td>8</td>\n",
       "      <td>13</td>\n",
       "      <td>2</td>\n",
       "      <td>0.15</td>\n",
       "    </tr>\n",
       "    <tr>\n",
       "      <th>45407</th>\n",
       "      <td>1</td>\n",
       "      <td>34</td>\n",
       "      <td>44</td>\n",
       "      <td>5</td>\n",
       "      <td>7</td>\n",
       "      <td>12</td>\n",
       "      <td>4</td>\n",
       "      <td>0.33</td>\n",
       "    </tr>\n",
       "    <tr>\n",
       "      <th>286200</th>\n",
       "      <td>0</td>\n",
       "      <td>21</td>\n",
       "      <td>38</td>\n",
       "      <td>3</td>\n",
       "      <td>6</td>\n",
       "      <td>9</td>\n",
       "      <td>2</td>\n",
       "      <td>0.22</td>\n",
       "    </tr>\n",
       "    <tr>\n",
       "      <th>157195</th>\n",
       "      <td>1</td>\n",
       "      <td>45</td>\n",
       "      <td>73</td>\n",
       "      <td>10</td>\n",
       "      <td>16</td>\n",
       "      <td>25</td>\n",
       "      <td>5</td>\n",
       "      <td>0.20</td>\n",
       "    </tr>\n",
       "    <tr>\n",
       "      <th>154346</th>\n",
       "      <td>1</td>\n",
       "      <td>59</td>\n",
       "      <td>64</td>\n",
       "      <td>11</td>\n",
       "      <td>12</td>\n",
       "      <td>23</td>\n",
       "      <td>8</td>\n",
       "      <td>0.35</td>\n",
       "    </tr>\n",
       "  </tbody>\n",
       "</table>\n",
       "</div>"
      ],
      "text/plain": [
       "        is_duplicate  q1_len  q2_len  q1_num_words  q2_num_words  words_total  \\\n",
       "331535             1      26      44             5             8           13   \n",
       "45407              1      34      44             5             7           12   \n",
       "286200             0      21      38             3             6            9   \n",
       "157195             1      45      73            10            16           25   \n",
       "154346             1      59      64            11            12           23   \n",
       "\n",
       "        words_common  words_share  \n",
       "331535             2         0.15  \n",
       "45407              4         0.33  \n",
       "286200             2         0.22  \n",
       "157195             5         0.20  \n",
       "154346             8         0.35  "
      ]
     },
     "execution_count": 54,
     "metadata": {},
     "output_type": "execute_result"
    }
   ],
   "source": [
    "final_df = new_df.drop(columns=['id','qid1','qid2','question1','question2'])\n",
    "print(final_df.shape)\n",
    "final_df.head()"
   ]
  },
  {
   "cell_type": "code",
   "execution_count": 56,
   "id": "af272b51-8c6c-468f-b238-15497cff320a",
   "metadata": {},
   "outputs": [],
   "source": [
    "from sklearn.feature_extraction.text import CountVectorizer\n",
    "\n",
    "questions = list(ques_df['question1']) + list(ques_df['question1'])\n",
    "\n",
    "cv = CountVectorizer(max_features = 3000)\n",
    "\n",
    "q1_arr, q2_arr = np.vsplit(cv.fit_transform(questions).toarray(),2)"
   ]
  },
  {
   "cell_type": "code",
   "execution_count": 61,
   "id": "129f1823-41ef-49d0-aa3c-b49e4b24824f",
   "metadata": {},
   "outputs": [
    {
     "data": {
      "text/plain": [
       "(30000, 6000)"
      ]
     },
     "execution_count": 61,
     "metadata": {},
     "output_type": "execute_result"
    }
   ],
   "source": [
    "temp_df1 = pd.DataFrame(q1_arr, index = ques_df.index)\n",
    "temp_df2 = pd.DataFrame(q2_arr, index = ques_df.index)\n",
    "temp_df = pd.concat([temp_df1, temp_df2], axis=1)\n",
    "temp_df.shape"
   ]
  },
  {
   "cell_type": "code",
   "execution_count": 63,
   "id": "d717e34e-c411-4fd0-875e-92c276c909c8",
   "metadata": {},
   "outputs": [
    {
     "name": "stdout",
     "output_type": "stream",
     "text": [
      "(30000, 6008)\n"
     ]
    },
    {
     "data": {
      "text/html": [
       "<div>\n",
       "<style scoped>\n",
       "    .dataframe tbody tr th:only-of-type {\n",
       "        vertical-align: middle;\n",
       "    }\n",
       "\n",
       "    .dataframe tbody tr th {\n",
       "        vertical-align: top;\n",
       "    }\n",
       "\n",
       "    .dataframe thead th {\n",
       "        text-align: right;\n",
       "    }\n",
       "</style>\n",
       "<table border=\"1\" class=\"dataframe\">\n",
       "  <thead>\n",
       "    <tr style=\"text-align: right;\">\n",
       "      <th></th>\n",
       "      <th>is_duplicate</th>\n",
       "      <th>q1_len</th>\n",
       "      <th>q2_len</th>\n",
       "      <th>q1_num_words</th>\n",
       "      <th>q2_num_words</th>\n",
       "      <th>words_total</th>\n",
       "      <th>words_common</th>\n",
       "      <th>words_share</th>\n",
       "      <th>0</th>\n",
       "      <th>1</th>\n",
       "      <th>...</th>\n",
       "      <th>2990</th>\n",
       "      <th>2991</th>\n",
       "      <th>2992</th>\n",
       "      <th>2993</th>\n",
       "      <th>2994</th>\n",
       "      <th>2995</th>\n",
       "      <th>2996</th>\n",
       "      <th>2997</th>\n",
       "      <th>2998</th>\n",
       "      <th>2999</th>\n",
       "    </tr>\n",
       "  </thead>\n",
       "  <tbody>\n",
       "    <tr>\n",
       "      <th>331535</th>\n",
       "      <td>1</td>\n",
       "      <td>26</td>\n",
       "      <td>44</td>\n",
       "      <td>5</td>\n",
       "      <td>8</td>\n",
       "      <td>13</td>\n",
       "      <td>2</td>\n",
       "      <td>0.15</td>\n",
       "      <td>0</td>\n",
       "      <td>0</td>\n",
       "      <td>...</td>\n",
       "      <td>0</td>\n",
       "      <td>0</td>\n",
       "      <td>0</td>\n",
       "      <td>0</td>\n",
       "      <td>0</td>\n",
       "      <td>0</td>\n",
       "      <td>0</td>\n",
       "      <td>0</td>\n",
       "      <td>0</td>\n",
       "      <td>0</td>\n",
       "    </tr>\n",
       "    <tr>\n",
       "      <th>45407</th>\n",
       "      <td>1</td>\n",
       "      <td>34</td>\n",
       "      <td>44</td>\n",
       "      <td>5</td>\n",
       "      <td>7</td>\n",
       "      <td>12</td>\n",
       "      <td>4</td>\n",
       "      <td>0.33</td>\n",
       "      <td>0</td>\n",
       "      <td>0</td>\n",
       "      <td>...</td>\n",
       "      <td>0</td>\n",
       "      <td>0</td>\n",
       "      <td>0</td>\n",
       "      <td>0</td>\n",
       "      <td>0</td>\n",
       "      <td>0</td>\n",
       "      <td>0</td>\n",
       "      <td>0</td>\n",
       "      <td>0</td>\n",
       "      <td>0</td>\n",
       "    </tr>\n",
       "    <tr>\n",
       "      <th>286200</th>\n",
       "      <td>0</td>\n",
       "      <td>21</td>\n",
       "      <td>38</td>\n",
       "      <td>3</td>\n",
       "      <td>6</td>\n",
       "      <td>9</td>\n",
       "      <td>2</td>\n",
       "      <td>0.22</td>\n",
       "      <td>0</td>\n",
       "      <td>0</td>\n",
       "      <td>...</td>\n",
       "      <td>0</td>\n",
       "      <td>0</td>\n",
       "      <td>0</td>\n",
       "      <td>0</td>\n",
       "      <td>0</td>\n",
       "      <td>0</td>\n",
       "      <td>0</td>\n",
       "      <td>0</td>\n",
       "      <td>0</td>\n",
       "      <td>0</td>\n",
       "    </tr>\n",
       "    <tr>\n",
       "      <th>157195</th>\n",
       "      <td>1</td>\n",
       "      <td>45</td>\n",
       "      <td>73</td>\n",
       "      <td>10</td>\n",
       "      <td>16</td>\n",
       "      <td>25</td>\n",
       "      <td>5</td>\n",
       "      <td>0.20</td>\n",
       "      <td>0</td>\n",
       "      <td>0</td>\n",
       "      <td>...</td>\n",
       "      <td>0</td>\n",
       "      <td>0</td>\n",
       "      <td>0</td>\n",
       "      <td>0</td>\n",
       "      <td>0</td>\n",
       "      <td>0</td>\n",
       "      <td>0</td>\n",
       "      <td>0</td>\n",
       "      <td>0</td>\n",
       "      <td>0</td>\n",
       "    </tr>\n",
       "    <tr>\n",
       "      <th>154346</th>\n",
       "      <td>1</td>\n",
       "      <td>59</td>\n",
       "      <td>64</td>\n",
       "      <td>11</td>\n",
       "      <td>12</td>\n",
       "      <td>23</td>\n",
       "      <td>8</td>\n",
       "      <td>0.35</td>\n",
       "      <td>0</td>\n",
       "      <td>0</td>\n",
       "      <td>...</td>\n",
       "      <td>0</td>\n",
       "      <td>0</td>\n",
       "      <td>0</td>\n",
       "      <td>0</td>\n",
       "      <td>0</td>\n",
       "      <td>0</td>\n",
       "      <td>0</td>\n",
       "      <td>0</td>\n",
       "      <td>0</td>\n",
       "      <td>0</td>\n",
       "    </tr>\n",
       "  </tbody>\n",
       "</table>\n",
       "<p>5 rows × 6008 columns</p>\n",
       "</div>"
      ],
      "text/plain": [
       "        is_duplicate  q1_len  q2_len  q1_num_words  q2_num_words  words_total  \\\n",
       "331535             1      26      44             5             8           13   \n",
       "45407              1      34      44             5             7           12   \n",
       "286200             0      21      38             3             6            9   \n",
       "157195             1      45      73            10            16           25   \n",
       "154346             1      59      64            11            12           23   \n",
       "\n",
       "        words_common  words_share  0  1  ...  2990  2991  2992  2993  2994  \\\n",
       "331535             2         0.15  0  0  ...     0     0     0     0     0   \n",
       "45407              4         0.33  0  0  ...     0     0     0     0     0   \n",
       "286200             2         0.22  0  0  ...     0     0     0     0     0   \n",
       "157195             5         0.20  0  0  ...     0     0     0     0     0   \n",
       "154346             8         0.35  0  0  ...     0     0     0     0     0   \n",
       "\n",
       "        2995  2996  2997  2998  2999  \n",
       "331535     0     0     0     0     0  \n",
       "45407      0     0     0     0     0  \n",
       "286200     0     0     0     0     0  \n",
       "157195     0     0     0     0     0  \n",
       "154346     0     0     0     0     0  \n",
       "\n",
       "[5 rows x 6008 columns]"
      ]
     },
     "execution_count": 63,
     "metadata": {},
     "output_type": "execute_result"
    }
   ],
   "source": [
    "final_df = pd.concat([final_df, temp_df], axis = 1)\n",
    "print(final_df.shape)\n",
    "final_df.head()"
   ]
  },
  {
   "cell_type": "code",
   "execution_count": 65,
   "id": "33201a23-43a8-47a2-b2ce-2563a29f1ed1",
   "metadata": {},
   "outputs": [],
   "source": [
    "from sklearn.model_selection import train_test_split\n",
    "X_train, X_test, Y_train, Y_test = train_test_split(final_df.iloc[:,1:].values, final_df.iloc[:,0].values, test_size=0.2, random_state=1)"
   ]
  },
  {
   "cell_type": "code",
   "execution_count": 67,
   "id": "6e22294a-d361-4b77-8f17-71c59407ac18",
   "metadata": {},
   "outputs": [
    {
     "data": {
      "text/plain": [
       "0.7621666666666667"
      ]
     },
     "execution_count": 67,
     "metadata": {},
     "output_type": "execute_result"
    }
   ],
   "source": [
    "from sklearn.ensemble import RandomForestClassifier\n",
    "from sklearn.metrics import accuracy_score\n",
    "\n",
    "rf = RandomForestClassifier()\n",
    "rf.fit(X_train, Y_train)\n",
    "Y_pred = rf.predict(X_test)\n",
    "accuracy_score(Y_test, Y_pred)"
   ]
  },
  {
   "cell_type": "code",
   "execution_count": 68,
   "id": "5855f234-042c-4bcd-bdc6-e5a7ade2d9b3",
   "metadata": {},
   "outputs": [
    {
     "data": {
      "text/plain": [
       "0.7613333333333333"
      ]
     },
     "execution_count": 68,
     "metadata": {},
     "output_type": "execute_result"
    }
   ],
   "source": [
    "from xgboost import XGBClassifier\n",
    "\n",
    "xgb = XGBClassifier()\n",
    "rf.fit(X_train, Y_train)\n",
    "Y_pred = rf.predict(X_test)\n",
    "accuracy_score(Y_test, Y_pred)"
   ]
  },
  {
   "cell_type": "code",
   "execution_count": null,
   "id": "7065e18d-b8ed-4240-bf26-ef8fe2aa0a40",
   "metadata": {},
   "outputs": [],
   "source": []
  }
 ],
 "metadata": {
  "kernelspec": {
   "display_name": "Python 3 (ipykernel)",
   "language": "python",
   "name": "python3"
  },
  "language_info": {
   "codemirror_mode": {
    "name": "ipython",
    "version": 3
   },
   "file_extension": ".py",
   "mimetype": "text/x-python",
   "name": "python",
   "nbconvert_exporter": "python",
   "pygments_lexer": "ipython3",
   "version": "3.9.13"
  }
 },
 "nbformat": 4,
 "nbformat_minor": 5
}
